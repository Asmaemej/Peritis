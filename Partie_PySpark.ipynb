{
  "nbformat": 4,
  "nbformat_minor": 0,
  "metadata": {
    "colab": {
      "provenance": []
    },
    "kernelspec": {
      "name": "python3",
      "display_name": "Python 3"
    },
    "language_info": {
      "name": "python"
    }
  },
  "cells": [
    {
      "cell_type": "markdown",
      "source": [
        "# Partie PySpark\n",
        "\n",
        "A partir du fichier CSV suivant :\n",
        "\n",
        "https://raw.githubusercontent.com/guru99-edu/R-Programming/master/adult_data.csv\n",
        "\n",
        "Ecrire un code PySpark permettant à partir du csv de compter le nombre de personnes qui ont\n",
        "pour leur attribut workclass “Private” et indiquer pour toutes ces personnes leur âge moyen par\n",
        "attribut “native-country”."
      ],
      "metadata": {
        "id": "Xm1UfaahKTUg"
      }
    },
    {
      "cell_type": "markdown",
      "source": [
        "### Import Libraries"
      ],
      "metadata": {
        "id": "cFGY0BiaK5_N"
      }
    },
    {
      "cell_type": "code",
      "source": [
        "#!pip install pyspark\n",
        "from pyspark import SparkFiles\n",
        "from pyspark.sql import SparkSession\n",
        "from pyspark.sql.functions import avg, col\n",
        "from pyspark.sql.types import IntegerType"
      ],
      "metadata": {
        "id": "Vt8cdTJ8B1B-"
      },
      "execution_count": 4,
      "outputs": []
    },
    {
      "cell_type": "markdown",
      "source": [
        "### Import data"
      ],
      "metadata": {
        "id": "Ehg1fVe0K-ff"
      }
    },
    {
      "cell_type": "code",
      "source": [
        "spark = SparkSession.builder.appName(\"test\").getOrCreate()\n",
        "\n",
        "url = \"https://raw.githubusercontent.com/guru99-edu/R-Programming/master/adult_data.csv\"\n",
        "spark.sparkContext.addFile(url)\n",
        "\n",
        "df = spark.read.option(\"header\", \"true\").csv(\"file://\" + SparkFiles.get(\"adult_data.csv\"))\n",
        "df.show(10)"
      ],
      "metadata": {
        "colab": {
          "base_uri": "https://localhost:8080/"
        },
        "id": "vHOUIWUGHyRR",
        "outputId": "ab60d415-6fd3-4380-b9dc-ce7737903d1e"
      },
      "execution_count": 5,
      "outputs": [
        {
          "output_type": "stream",
          "name": "stdout",
          "text": [
            "+---+---+----------------+------+------------+---------------+------------------+-----------------+-------------+-----+------+------------+------------+--------------+--------------+------+\n",
            "|  x|age|       workclass|fnlwgt|   education|educational-num|    marital-status|       occupation| relationship| race|gender|capital-gain|capital-loss|hours-per-week|native-country|income|\n",
            "+---+---+----------------+------+------------+---------------+------------------+-----------------+-------------+-----+------+------------+------------+--------------+--------------+------+\n",
            "|  1| 25|         Private|226802|        11th|              7|     Never-married|Machine-op-inspct|    Own-child|Black|  Male|           0|           0|            40| United-States| <=50K|\n",
            "|  2| 38|         Private| 89814|     HS-grad|              9|Married-civ-spouse|  Farming-fishing|      Husband|White|  Male|           0|           0|            50| United-States| <=50K|\n",
            "|  3| 28|       Local-gov|336951|  Assoc-acdm|             12|Married-civ-spouse|  Protective-serv|      Husband|White|  Male|           0|           0|            40| United-States|  >50K|\n",
            "|  4| 44|         Private|160323|Some-college|             10|Married-civ-spouse|Machine-op-inspct|      Husband|Black|  Male|        7688|           0|            40| United-States|  >50K|\n",
            "|  5| 18|               ?|103497|Some-college|             10|     Never-married|                ?|    Own-child|White|Female|           0|           0|            30| United-States| <=50K|\n",
            "|  6| 34|         Private|198693|        10th|              6|     Never-married|    Other-service|Not-in-family|White|  Male|           0|           0|            30| United-States| <=50K|\n",
            "|  7| 29|               ?|227026|     HS-grad|              9|     Never-married|                ?|    Unmarried|Black|  Male|           0|           0|            40| United-States| <=50K|\n",
            "|  8| 63|Self-emp-not-inc|104626| Prof-school|             15|Married-civ-spouse|   Prof-specialty|      Husband|White|  Male|        3103|           0|            32| United-States|  >50K|\n",
            "|  9| 24|         Private|369667|Some-college|             10|     Never-married|    Other-service|    Unmarried|White|Female|           0|           0|            40| United-States| <=50K|\n",
            "| 10| 55|         Private|104996|     7th-8th|              4|Married-civ-spouse|     Craft-repair|      Husband|White|  Male|           0|           0|            10| United-States| <=50K|\n",
            "+---+---+----------------+------+------------+---------------+------------------+-----------------+-------------+-----+------+------------+------------+--------------+--------------+------+\n",
            "only showing top 10 rows\n",
            "\n"
          ]
        }
      ]
    },
    {
      "cell_type": "markdown",
      "source": [
        "####Le nombre de personnes qui ont pour leur attribut workclass “Private”"
      ],
      "metadata": {
        "id": "tCkEzR15LO4d"
      }
    },
    {
      "cell_type": "code",
      "source": [
        "df_private = df.filter(df['workclass'] == 'Private')\n",
        "df_private.count()"
      ],
      "metadata": {
        "colab": {
          "base_uri": "https://localhost:8080/"
        },
        "id": "-2_OkR4WCqUi",
        "outputId": "475312fd-3954-44a1-b02b-cb7ad7d6a04c"
      },
      "execution_count": 6,
      "outputs": [
        {
          "output_type": "execute_result",
          "data": {
            "text/plain": [
              "33906"
            ]
          },
          "metadata": {},
          "execution_count": 6
        }
      ]
    },
    {
      "cell_type": "markdown",
      "source": [
        "####Leur âge moyen par attribut “native-country”"
      ],
      "metadata": {
        "id": "-HaPiIz9LdGv"
      }
    },
    {
      "cell_type": "code",
      "source": [
        "avg_age = df_private.groupBy(\"native-country\")\\\n",
        "                    .agg(avg(col('age'))\\\n",
        "                    .cast(IntegerType())\\\n",
        "                    .alias('age-moyen'))\n",
        "avg_age.show()"
      ],
      "metadata": {
        "colab": {
          "base_uri": "https://localhost:8080/"
        },
        "id": "SIJeetjgEccT",
        "outputId": "ef5beff9-4138-43f8-af15-4f10c5d864f9"
      },
      "execution_count": 7,
      "outputs": [
        {
          "output_type": "stream",
          "name": "stdout",
          "text": [
            "+------------------+---------+\n",
            "|    native-country|age-moyen|\n",
            "+------------------+---------+\n",
            "|       Philippines|       38|\n",
            "|           Germany|       37|\n",
            "|          Cambodia|       37|\n",
            "|            France|       40|\n",
            "|            Greece|       42|\n",
            "|            Taiwan|       34|\n",
            "|           Ecuador|       37|\n",
            "|         Nicaragua|       35|\n",
            "|              Hong|       33|\n",
            "|              Peru|       36|\n",
            "|             India|       37|\n",
            "|             China|       40|\n",
            "|             Italy|       44|\n",
            "|Holand-Netherlands|       32|\n",
            "|              Cuba|       46|\n",
            "|             South|       38|\n",
            "|              Iran|       38|\n",
            "|           Ireland|       37|\n",
            "|          Thailand|       36|\n",
            "|              Laos|       34|\n",
            "+------------------+---------+\n",
            "only showing top 20 rows\n",
            "\n"
          ]
        }
      ]
    }
  ]
}